{
 "cells": [
  {
   "cell_type": "markdown",
   "metadata": {},
   "source": [
    "#  <center>097400 - Technion - Introduction to Causal Inference</center>\n",
    "\n",
    "##  <center>Homework 4</center> \n",
    "\n",
    "### <center>Winter 2020/2021</center>\n",
    "\n",
    "### <center>Submission date: January 18 , 2021</center>\n"
   ]
  },
  {
   "cell_type": "markdown",
   "metadata": {},
   "source": [
    "### <img src=\"https://img.icons8.com/bubbles/50/000000/information.png\" style=\"height:50px;display:inline\"> Students Information\n",
    "\n",
    "|Name     |Campus Email| ID  |\n",
    "|---------|--------------------------------|----------|\n",
    "|Asaf Gendler| asafgendler@campus.technion.ac.il| 301727715|\n",
    "|Shalev Shaer| shalev.shaer@campus.technion.ac.il| 305252520|\n"
   ]
  },
  {
   "cell_type": "markdown",
   "metadata": {},
   "source": [
    "## Overview\n",
    "In this homework assignment you will experience working with actual (partially simulated) data,\n",
    "as preparation for the final project. You are more than encouraged to work in pairs. We generated\n",
    "the data in a manner that guarantees there are no unmeasured confounders."
   ]
  },
  {
   "cell_type": "markdown",
   "metadata": {},
   "source": [
    "## The Data\n",
    "\n",
    "Together with this document are two data files (\\data1.csv\" and \\data2.csv\"). Each contains\n",
    "$n = 4802$ samples, with the following properties:\n",
    "1. $ X_1 , X_2, ... , X_{58} $ : Covariates of the model (same in both datasets).\n",
    "2. $T$ : The treatment assignment of the model (binary).\n",
    "3. $Y$ : The outcome of the model."
   ]
  },
  {
   "cell_type": "markdown",
   "metadata": {},
   "source": [
    "## Requirements\n",
    "Your task is to estimate the Average Treatment effect on the Treated (ATT), in both of the\n",
    "datasets. For each dataset you should first calculate the propensity score, and then estimate the\n",
    "ATT using the following approaches:\n",
    "1. Inverse Propensity Score Weighting\n",
    "2. S-learner\n",
    "3. T-learner\n",
    "4. Matching"
   ]
  },
  {
   "cell_type": "markdown",
   "metadata": {},
   "source": [
    "The grade of this assignment will have two parts: 85% of the grade will be based on your ability\n",
    "to calculate estimates for each of the models (i)-(iv) above. Then, for the remaining 15% of the\n",
    "grade, we ask you to give your best estimate of the true ATT, using any of the methods above or\n",
    "any other method you wish to use. The 15% of the grade which are part of the competition will be\n",
    "calculated as a function of the distance from the true result and your classmates performance.\n",
    "You are free to use any programming language (we recommend on using Python or R) and any\n",
    "model for estimating the propensities, the outcomes, and matching. Please think carefully which\n",
    "model you wish to use, as this is what will make a difference between the more accurate and less\n",
    "accurate estimates."
   ]
  },
  {
   "cell_type": "markdown",
   "metadata": {},
   "source": [
    "## Libaries for the assignment"
   ]
  },
  {
   "cell_type": "code",
   "execution_count": 1,
   "metadata": {},
   "outputs": [
    {
     "name": "stderr",
     "output_type": "stream",
     "text": [
      "C:\\Anaconda\\anaconda3\\envs\\Thesis\\lib\\site-packages\\econml\\causal_forest.py:71: FutureWarning: This class will be removed from a future version of this package; please use econml.sklearn_extensions.linear_model.WeightedLassoCV instead.\n",
      "  model_Y=LassoCVWrapper(cv=3),\n"
     ]
    }
   ],
   "source": [
    "# import libaries fot the assignment\n",
    "import numpy as np\n",
    "from scipy.special import expit\n",
    "import matplotlib.pyplot as plt\n",
    "import pandas as pd \n",
    "from sklearn import linear_model\n",
    "from sklearn import preprocessing\n",
    "from sklearn.calibration import calibration_curve\n",
    "from sklearn.calibration import CalibratedClassifierCV\n",
    "from sklearn import metrics\n",
    "from sklearn.neural_network import MLPRegressor\n",
    "from sklearn.neural_network import MLPClassifier\n",
    "from sklearn.neighbors import NearestNeighbors\n",
    "from sklearn.neighbors import DistanceMetric\n",
    "from sklearn.ensemble import RandomForestRegressor\n",
    "from sklearn.ensemble import RandomForestClassifier\n",
    "from econml.causal_forest import CausalForest\n",
    "%matplotlib inline\n"
   ]
  },
  {
   "cell_type": "markdown",
   "metadata": {},
   "source": [
    "## Load Dataset"
   ]
  },
  {
   "cell_type": "code",
   "execution_count": 2,
   "metadata": {},
   "outputs": [],
   "source": [
    "# load datasets\n",
    "data = pd.read_csv(\"../data1.csv\") \n",
    "\n",
    "# extract treatment and outcome\n",
    "T = data[\"T\"].to_numpy()\n",
    "Y = data[\"Y\"].to_numpy()\n",
    "\n",
    "# drop treatment and outcome\n",
    "data = data.drop(columns=['T', 'Y'])\n",
    "\n",
    "# cerate dummy features for catagorial features\n",
    "data = pd.get_dummies(data, columns=['x_2', 'x_21','x_24'])\n",
    "\n",
    "# extract features\n",
    "X = data.iloc[:,1:].to_numpy()\n",
    "\n",
    "# normlize dataset\n",
    "scaler = preprocessing.StandardScaler().fit(X)\n",
    "X = scaler.transform(X)\n",
    "\n",
    "# set general parametrs\n",
    "N = np.shape(X)[0]               # number of datapoints\n",
    "N_features = np.shape(X)[1]      # number of features\n",
    "Treated = X[T==1,:]              # only treated datapoints\n",
    "N_treated = np.shape(Treated)[0] # number of treated\n"
   ]
  },
  {
   "cell_type": "markdown",
   "metadata": {},
   "source": [
    "## Estimating Propensity Scores"
   ]
  },
  {
   "cell_type": "code",
   "execution_count": 3,
   "metadata": {},
   "outputs": [
    {
     "name": "stdout",
     "output_type": "stream",
     "text": [
      "AUROC : 0.6134678624902761\n"
     ]
    }
   ],
   "source": [
    "# train a logistic regression clasiifier for estimating the propensity score\n",
    "propensity_estimator = linear_model.LogisticRegression(max_iter=1000)\n",
    "#propensity_estimator = MLPClassifier(max_iter=1000)\n",
    "#propensity_estimator = RandomForestClassifier()\n",
    "\n",
    "# calibrate the clasiifier\n",
    "#propensity_estimator = CalibratedClassifierCV(propensity_estimator)\n",
    "\n",
    "# fit the model\n",
    "propensity_estimator.fit(X, T)\n",
    "\n",
    "# predict propensity_scores with the trained model\n",
    "propensity_score = propensity_estimator.predict_proba(X)[:,1]\n",
    "\n",
    "# save for results\n",
    "propensity_score_1 = np.copy(propensity_score)\n",
    "\n",
    "# evaluate estimator\n",
    "print(\"AUROC : \"+str(metrics.roc_auc_score(T, propensity_score)))\n"
   ]
  },
  {
   "cell_type": "markdown",
   "metadata": {},
   "source": [
    "## Check if the model is well calibrated"
   ]
  },
  {
   "cell_type": "code",
   "execution_count": 4,
   "metadata": {},
   "outputs": [
    {
     "data": {
      "image/png": "[encoded data removed]",
      "text/plain": [
       "<Figure size 720x360 with 1 Axes>"
      ]
     },
     "metadata": {
      "needs_background": "light"
     },
     "output_type": "display_data"
    }
   ],
   "source": [
    "fig = plt.figure(figsize=(10,5))\n",
    "\n",
    "# reliability diagram\n",
    "fop, mpv = calibration_curve(T, propensity_score, n_bins=10)\n",
    "\n",
    "# plot perfectly calibrated\n",
    "plt.plot([0, 1], [0, 1], linestyle='--')\n",
    "\n",
    "# plot model reliability\n",
    "plt.plot(mpv, fop, marker='.')\n",
    "plt.title(\"Calibraiotn check\")\n",
    "plt.legend(['perfectely calibrated','model calibration'])\n",
    "plt.show()\n"
   ]
  },
  {
   "cell_type": "markdown",
   "metadata": {},
   "source": [
    "## Trimming"
   ]
  },
  {
   "cell_type": "code",
   "execution_count": 5,
   "metadata": {},
   "outputs": [],
   "source": [
    "# chekck for common support\n",
    "upper_trim = np.min([np.max(propensity_score[T==1]),np.max(propensity_score[T==0])])\n",
    "lower_trim = np.max([np.min(propensity_score[T==1]),np.min(propensity_score[T==0])])\n",
    "indexes_to_take = (propensity_score<upper_trim) * (propensity_score>lower_trim)\n",
    "\n",
    "# remove all sampples which are not in common support\n",
    "X = X[indexes_to_take,:]\n",
    "T = T[indexes_to_take]\n",
    "Y = Y[indexes_to_take]\n",
    "\n",
    "N = np.shape(X)[0]               # number of datapoints\n",
    "Treated = X[T==1,:]              # only treated datapoints\n",
    "N_treated = np.shape(Treated)[0] # number of treated\n",
    "\n",
    "propensity_score = propensity_score[indexes_to_take]"
   ]
  },
  {
   "cell_type": "markdown",
   "metadata": {},
   "source": [
    "## Check Overlapping"
   ]
  },
  {
   "cell_type": "code",
   "execution_count": 6,
   "metadata": {},
   "outputs": [
    {
     "data": {
      "image/png": "[encoded data removed]",
      "text/plain": [
       "<Figure size 720x360 with 1 Axes>"
      ]
     },
     "metadata": {
      "needs_background": "light"
     },
     "output_type": "display_data"
    }
   ],
   "source": [
    "# plot propensity scores distribution of treated and untreated\n",
    "fig = plt.figure(figsize=(10,5))\n",
    "treat_plt = plt.hist(propensity_score[T==1], fc=(0, 0, 1, 0.5),bins=20,label='Treated')\n",
    "cont_plt = plt.hist(propensity_score[T==0],fc=(1, 0, 0, 0.5),bins=20,label='Control')\n",
    "plt.legend();\n",
    "plt.xlabel('propensity score');\n",
    "plt.ylabel('number of units');\n"
   ]
  },
  {
   "cell_type": "markdown",
   "metadata": {},
   "source": [
    "## Estimate ATE using inverse propensity wegihtening"
   ]
  },
  {
   "cell_type": "code",
   "execution_count": 7,
   "metadata": {},
   "outputs": [
    {
     "name": "stdout",
     "output_type": "stream",
     "text": [
      "ATT = 4.336531292105946\n"
     ]
    }
   ],
   "source": [
    "# calculate using hte inverse propensity firmula for ATT\n",
    "ATT_inverse_propensity_1 = (np.sum(T * Y)/np.sum(T)) - (np.sum((1-T) * Y * (propensity_score/(1-propensity_score)))/np.sum((1-T) * (propensity_score/(1-propensity_score))))\n",
    "print(\"ATT = \"+str(ATT_inverse_propensity_1))"
   ]
  },
  {
   "cell_type": "markdown",
   "metadata": {},
   "source": [
    "## Estimate ATT using S learner"
   ]
  },
  {
   "cell_type": "code",
   "execution_count": 8,
   "metadata": {},
   "outputs": [
    {
     "name": "stdout",
     "output_type": "stream",
     "text": [
      "R^2 = 0.5191376956996726\n",
      "ATT = 4.636489489217852\n"
     ]
    }
   ],
   "source": [
    "# add T as a feature\n",
    "New_Features = np.concatenate((X, np.reshape(T,(N,1))), axis=1)\n",
    "\n",
    "# fit a model\n",
    "Outcome_estimator = linear_model.Ridge(alpha=1.0)\n",
    "Outcome_estimator.fit(New_Features, Y)\n",
    "\n",
    "# evaluate model with R^2\n",
    "print(\"R^2 = \" +str(Outcome_estimator.score(New_Features,Y)))\n",
    "\n",
    "# use model to predict outcomes once when treated and once when not on Treated\n",
    "#estimated_outcomes_1 = Outcome_estimator.predict(np.concatenate((Treated, np.ones((N_treated,1))), axis=1))\n",
    "estimated_outcomes_1 = Y[T==1]\n",
    "estimated_outcomes_0 = Outcome_estimator.predict(np.concatenate((Treated, np.zeros((N_treated,1))), axis=1))\n",
    "\n",
    "# calcualte ATT\n",
    "ATT_S_learner_1 = np.mean(estimated_outcomes_1 - estimated_outcomes_0)\n",
    "print(\"ATT = \"+str(ATT_S_learner_1))"
   ]
  },
  {
   "cell_type": "markdown",
   "metadata": {},
   "source": [
    "## Estimate ATT using S learner 2d + 1"
   ]
  },
  {
   "cell_type": "code",
   "execution_count": 9,
   "metadata": {},
   "outputs": [
    {
     "name": "stdout",
     "output_type": "stream",
     "text": [
      "R^2 = 0.5871146103590379\n",
      "ATT = 4.341596082543011\n"
     ]
    }
   ],
   "source": [
    "# add T and multiplications of T with the other features as new features\n",
    "New_Features = np.concatenate((X, (X.T * T).T, np.reshape(T,(N,1))), axis=1)\n",
    "\n",
    "# fit a model\n",
    "Outcome_estimator = linear_model.Ridge(alpha=1.0)\n",
    "Outcome_estimator.fit(New_Features, Y)\n",
    "\n",
    "# evaluate model with R^2\n",
    "print(\"R^2 = \" +str(Outcome_estimator.score(New_Features,Y)))\n",
    "\n",
    "# use model to predict outcomes once when treated and once when not on Treated\n",
    "#estimated_outcomes_1 = Outcome_estimator.predict(np.concatenate((Treated, (Treated.T * np.ones(N_treated)).T, np.ones((N_treated,1))), axis=1))\n",
    "estimated_outcomes_1 = Y[T==1]\n",
    "estimated_outcomes_0 = Outcome_estimator.predict(np.concatenate((Treated, (Treated.T * np.zeros(N_treated)).T, np.zeros((N_treated,1))), axis=1))\n",
    "           \n",
    "# calcualte ATT    \n",
    "ATT_S_learner_2d_1 = np.mean(estimated_outcomes_1 - estimated_outcomes_0)\n",
    "print(\"ATT = \"+str(ATT_S_learner_2d_1))\n"
   ]
  },
  {
   "cell_type": "markdown",
   "metadata": {},
   "source": [
    "## Estimate ATT using T learner"
   ]
  },
  {
   "cell_type": "code",
   "execution_count": 10,
   "metadata": {},
   "outputs": [
    {
     "name": "stdout",
     "output_type": "stream",
     "text": [
      "R^2 Treated = 0.4193753058459244\n",
      "R^2 Control = 0.7165894948942979\n",
      "ATT = 4.344372702869461\n"
     ]
    }
   ],
   "source": [
    "# fit 2 models, one for treated and one for untreated\n",
    "Outcome_estimator1 = linear_model.Ridge(alpha=1.0)\n",
    "Outcome_estimator0 = linear_model.Ridge(alpha=1.0)\n",
    "\n",
    "Outcome_estimator1.fit(X[T==1,:], Y[T==1])\n",
    "Outcome_estimator0.fit(X[T==0,:], Y[T==0])\n",
    "\n",
    "# evaluate models with R^2\n",
    "print(\"R^2 Treated = \" +str(Outcome_estimator1.score(X[T==1,:], Y[T==1])))\n",
    "print(\"R^2 Control = \" +str(Outcome_estimator0.score(X[T==0,:], Y[T==0])))\n",
    "\n",
    "# use the model to predict outcomes on treated population\n",
    "#estimated_outcomes_1 = Outcome_estimator1.predict(Treated)\n",
    "estimated_outcomes_1 = Y[T==1]\n",
    "estimated_outcomes_0 = Outcome_estimator0.predict(Treated)\n",
    "  \n",
    "# calcualte ATT        \n",
    "ATT_T_learner_1 = np.mean(estimated_outcomes_1 - estimated_outcomes_0)\n",
    "print(\"ATT = \"+str(ATT_T_learner_1))"
   ]
  },
  {
   "cell_type": "markdown",
   "metadata": {},
   "source": [
    "## Estiamte ATT using matching"
   ]
  },
  {
   "cell_type": "code",
   "execution_count": 11,
   "metadata": {},
   "outputs": [
    {
     "name": "stdout",
     "output_type": "stream",
     "text": [
      "ATT = 4.139787492855213\n"
     ]
    }
   ],
   "source": [
    "k = 3 # num of neibours\n",
    "p = 2 # whice p norm to use for distance\n",
    "\n",
    "# find nearest neibours of treated population from the untreated population\n",
    "\n",
    "# mahalanobis distance\n",
    "#nbrs = NearestNeighbors(n_neighbors=k,metric='mahalanobis',metric_params={'V': np.cov(X.T)}).fit(X[T==0])\n",
    "\n",
    "# regular p norm distance\n",
    "nbrs = NearestNeighbors(n_neighbors=k,p=p).fit(X[T==0])\n",
    "\n",
    "distances, indices = nbrs.kneighbors(X[T==1])\n",
    "\n",
    "# calcualte ATT        \n",
    "ATT_Matching_1 = np.mean(Y[T==1] - np.mean(Y[T==0][indices],axis=1))\n",
    "print(\"ATT = \"+str(ATT_Matching_1))"
   ]
  },
  {
   "cell_type": "markdown",
   "metadata": {},
   "source": [
    "## Estimate ATT for competition using Doubly robust estimator and random forest"
   ]
  },
  {
   "cell_type": "code",
   "execution_count": 12,
   "metadata": {},
   "outputs": [
    {
     "name": "stdout",
     "output_type": "stream",
     "text": [
      "R^2 Treated = 0.9925503652460561\n",
      "R^2 Control = 0.9801872030787421\n",
      "ATT = 4.232552503268786\n"
     ]
    }
   ],
   "source": [
    "# fit 2 models, one for treated and one for untreated\n",
    "Outcome_estimator1 = RandomForestRegressor()\n",
    "Outcome_estimator0 = RandomForestRegressor()\n",
    "\n",
    "Outcome_estimator1.fit(X[T==1,:], Y[T==1])\n",
    "Outcome_estimator0.fit(X[T==0,:], Y[T==0])\n",
    "\n",
    "# evaluate models with R^2\n",
    "print(\"R^2 Treated = \" +str(Outcome_estimator1.score(X[T==1,:], Y[T==1])))\n",
    "print(\"R^2 Control = \" +str(Outcome_estimator0.score(X[T==0,:], Y[T==0])))\n",
    "\n",
    "# use the model to predict outcomes on treated population\n",
    "estimated_outcomes_1 = Outcome_estimator1.predict(Treated)\n",
    "estimated_outcomes_0 = Outcome_estimator0.predict(Treated)\n",
    "\n",
    "g1 = estimated_outcomes_1 + (1/propensity_score[T==1]) * (Y[T==1] - estimated_outcomes_1)\n",
    "g0 = estimated_outcomes_0\n",
    "  \n",
    "# calcualte ATT        \n",
    "ATT_Doubly_robust_1 = np.mean(g1 - g0)\n",
    "print(\"ATT = \"+str(ATT_Doubly_robust_1))   \n",
    "    "
   ]
  },
  {
   "cell_type": "markdown",
   "metadata": {},
   "source": [
    "## Estimate ATT for competition using Causal Forest"
   ]
  },
  {
   "cell_type": "code",
   "execution_count": 13,
   "metadata": {},
   "outputs": [
    {
     "name": "stderr",
     "output_type": "stream",
     "text": [
      "[Parallel(n_jobs=-1)]: Using backend LokyBackend with 4 concurrent workers.\n",
      "[Parallel(n_jobs=-1)]: Done  24 tasks      | elapsed:    5.0s\n",
      "[Parallel(n_jobs=-1)]: Done 120 tasks      | elapsed:    8.0s\n",
      "[Parallel(n_jobs=-1)]: Done 280 tasks      | elapsed:   13.4s\n",
      "[Parallel(n_jobs=-1)]: Done 500 out of 500 | elapsed:   20.8s finished\n",
      "[Parallel(n_jobs=-1)]: Using backend LokyBackend with 4 concurrent workers.\n",
      "[Parallel(n_jobs=-1)]: Done  40 tasks      | elapsed:    1.2s\n",
      "[Parallel(n_jobs=-1)]: Done 232 tasks      | elapsed:    7.2s\n",
      "[Parallel(n_jobs=-1)]: Done 493 out of 500 | elapsed:   15.6s remaining:    0.1s\n",
      "[Parallel(n_jobs=-1)]: Done 500 out of 500 | elapsed:   15.7s finished\n",
      "[Parallel(n_jobs=-1)]: Using backend LokyBackend with 4 concurrent workers.\n",
      "[Parallel(n_jobs=-1)]: Done  24 tasks      | elapsed:    5.2s\n",
      "[Parallel(n_jobs=-1)]: Done 120 tasks      | elapsed:   11.0s\n",
      "[Parallel(n_jobs=-1)]: Done 408 tasks      | elapsed:   30.8s\n",
      "[Parallel(n_jobs=-1)]: Done 632 tasks      | elapsed:   48.3s\n",
      "[Parallel(n_jobs=-1)]: Done 1016 tasks      | elapsed:  1.3min\n",
      "[Parallel(n_jobs=-1)]: Done 1520 tasks      | elapsed:  1.9min\n",
      "[Parallel(n_jobs=-1)]: Done 2024 tasks      | elapsed:  2.5min\n",
      "[Parallel(n_jobs=-1)]: Done 2596 tasks      | elapsed:  3.2min\n",
      "[Parallel(n_jobs=-1)]: Done 3228 tasks      | elapsed:  4.1min\n",
      "[Parallel(n_jobs=-1)]: Done 3268 out of 3268 | elapsed:  4.1min finished\n"
     ]
    },
    {
     "name": "stdout",
     "output_type": "stream",
     "text": [
      "ATT = 3.59157519614876\n"
     ]
    }
   ],
   "source": [
    "# fit causal forest to data\n",
    "Outcome_estimator = CausalForest()\n",
    "Outcome_estimator.fit(X=X,T=T,Y=Y)\n",
    "\n",
    "# use the model to predict outcomes on treated population\n",
    "effect = Outcome_estimator.const_marginal_effect(Treated)\n",
    "\n",
    "# calcualte ATT        \n",
    "ATT_Causal_Forest_1 = np.mean(effect)\n",
    "print(\"ATT = \"+str(ATT_Causal_Forest_1)) "
   ]
  },
  {
   "cell_type": "markdown",
   "metadata": {},
   "source": [
    "## Estimate ATT for competition using X - Learner with random forest"
   ]
  },
  {
   "cell_type": "code",
   "execution_count": 14,
   "metadata": {},
   "outputs": [
    {
     "name": "stdout",
     "output_type": "stream",
     "text": [
      "R^2 Treated = 0.992527087473855\n",
      "R^2 Control = 0.9805216861363063\n",
      "R^2 tau1 = 0.9849260050996499\n",
      "R^2 tau0 = 0.9818736666317961\n",
      "ATT = 4.240958525758456\n"
     ]
    }
   ],
   "source": [
    "# fit 2 models, one for treated and one for untreated\n",
    "Outcome_estimator1 = RandomForestRegressor()\n",
    "Outcome_estimator0 = RandomForestRegressor()\n",
    "\n",
    "Outcome_estimator1.fit(X[T==1,:], Y[T==1])\n",
    "Outcome_estimator0.fit(X[T==0,:], Y[T==0])\n",
    "\n",
    "# evaluate models with R^2\n",
    "print(\"R^2 Treated = \" +str(Outcome_estimator1.score(X[T==1,:], Y[T==1])))\n",
    "print(\"R^2 Control = \" +str(Outcome_estimator0.score(X[T==0,:], Y[T==0])))\n",
    "\n",
    "# use the model to predict outcomes on treated population\n",
    "estimated_outcomes_1 = Outcome_estimator1.predict(X)\n",
    "estimated_outcomes_0 = Outcome_estimator0.predict(X)\n",
    "\n",
    "tau1 = Y[T==1] - estimated_outcomes_0[T==1]\n",
    "tau0 = estimated_outcomes_1[T==0] - Y[T==0]\n",
    "\n",
    "tau1_estimator = RandomForestRegressor()\n",
    "tau0_estimator = RandomForestRegressor()\n",
    "\n",
    "tau1_estimator.fit(X[T==1,:], tau1)\n",
    "tau0_estimator.fit(X[T==0,:], tau0)\n",
    "\n",
    "# evaluate models with R^2\n",
    "print(\"R^2 tau1 = \" +str(tau1_estimator.score(X[T==1,:], tau1)))\n",
    "print(\"R^2 tau0 = \" +str(tau0_estimator.score(X[T==0,:], tau0)))\n",
    "\n",
    "# use the model to predict outcomes on treated population\n",
    "estimated_tau1 = tau1_estimator.predict(X)\n",
    "estimated_tau0 = tau0_estimator.predict(X)\n",
    "\n",
    "ITE = propensity_score * estimated_tau0 + (1-propensity_score) * estimated_tau1\n",
    " \n",
    "# calcualte ATT        \n",
    "ATT_X_Learner_1 = np.mean(ITE[T==1])\n",
    "print(\"ATT = \"+str(ATT_X_Learner_1)) "
   ]
  },
  {
   "cell_type": "markdown",
   "metadata": {},
   "source": [
    "## Choose model for competition"
   ]
  },
  {
   "cell_type": "code",
   "execution_count": 15,
   "metadata": {},
   "outputs": [],
   "source": [
    "ATT_Competition_1 = ATT_X_Learner_1"
   ]
  },
  {
   "cell_type": "markdown",
   "metadata": {},
   "source": [
    "# Repeat procees for second dataset"
   ]
  },
  {
   "cell_type": "markdown",
   "metadata": {},
   "source": [
    "## Load Dataset"
   ]
  },
  {
   "cell_type": "code",
   "execution_count": 16,
   "metadata": {},
   "outputs": [],
   "source": [
    "# load datasets\n",
    "data = pd.read_csv(\"../data2.csv\") \n",
    "\n",
    "# extract treatment and outcome\n",
    "T = data[\"T\"].to_numpy()\n",
    "Y = data[\"Y\"].to_numpy()\n",
    "\n",
    "# drop treatment and outcome\n",
    "data = data.drop(columns=['T', 'Y'])\n",
    "\n",
    "# cerate dummy features for catagorial features\n",
    "data = pd.get_dummies(data, columns=['x_2', 'x_21','x_24'])\n",
    "\n",
    "# extract features\n",
    "X = data.iloc[:,1:].to_numpy()\n",
    "\n",
    "# normlize dataset\n",
    "scaler = preprocessing.StandardScaler().fit(X)\n",
    "X = scaler.transform(X)\n",
    "\n",
    "# set general parametrs\n",
    "N = np.shape(X)[0]               # number of datapoints\n",
    "N_features = np.shape(X)[1]      # number of features\n",
    "Treated = X[T==1,:]              # only treated datapoints\n",
    "N_treated = np.shape(Treated)[0] # number of treated\n"
   ]
  },
  {
   "cell_type": "markdown",
   "metadata": {},
   "source": [
    "## Estimating Propensity Scores"
   ]
  },
  {
   "cell_type": "code",
   "execution_count": 17,
   "metadata": {},
   "outputs": [
    {
     "name": "stdout",
     "output_type": "stream",
     "text": [
      "AUROC : 0.7065655660588683\n"
     ]
    }
   ],
   "source": [
    "# train a logistic regression clasiifier for estimating the propensity score\n",
    "propensity_estimator = linear_model.LogisticRegression(max_iter=1000)\n",
    "#propensity_estimator = MLPClassifier(max_iter=1000)\n",
    "#propensity_estimator = RandomForestClassifier()\n",
    "\n",
    "# calibrate the clasiifier\n",
    "#propensity_estimator = CalibratedClassifierCV(propensity_estimator)\n",
    "\n",
    "# fit the model\n",
    "propensity_estimator.fit(X, T)\n",
    "\n",
    "# predict propensity_scores with the trained model\n",
    "propensity_score = propensity_estimator.predict_proba(X)[:,1]\n",
    "\n",
    "# save for results\n",
    "propensity_score_2 = np.copy(propensity_score)\n",
    "\n",
    "# evaluate estimator\n",
    "print(\"AUROC : \"+str(metrics.roc_auc_score(T, propensity_score)))\n"
   ]
  },
  {
   "cell_type": "markdown",
   "metadata": {},
   "source": [
    "## Check if the model is well calibrated"
   ]
  },
  {
   "cell_type": "code",
   "execution_count": 18,
   "metadata": {},
   "outputs": [
    {
     "data": {
      "image/png": "[encoded data removed]",
      "text/plain": [
       "<Figure size 720x360 with 1 Axes>"
      ]
     },
     "metadata": {
      "needs_background": "light"
     },
     "output_type": "display_data"
    }
   ],
   "source": [
    "fig = plt.figure(figsize=(10,5))\n",
    "\n",
    "# reliability diagram\n",
    "fop, mpv = calibration_curve(T, propensity_score, n_bins=10)\n",
    "\n",
    "# plot perfectly calibrated\n",
    "plt.plot([0, 1], [0, 1], linestyle='--')\n",
    "\n",
    "# plot model reliability\n",
    "plt.plot(mpv, fop, marker='.')\n",
    "plt.title(\"Calibraiotn check\")\n",
    "plt.legend(['perfectely calibrated','model calibration'])\n",
    "plt.show()\n"
   ]
  },
  {
   "cell_type": "markdown",
   "metadata": {},
   "source": [
    "## Trimming"
   ]
  },
  {
   "cell_type": "code",
   "execution_count": 19,
   "metadata": {},
   "outputs": [],
   "source": [
    "# chekck for common support\n",
    "upper_trim = np.min([np.max(propensity_score[T==1]),np.max(propensity_score[T==0])])\n",
    "lower_trim = np.max([np.min(propensity_score[T==1]),np.min(propensity_score[T==0])])\n",
    "indexes_to_take = (propensity_score<upper_trim) * (propensity_score>lower_trim)\n",
    "\n",
    "# remove all sampples which are not in common support\n",
    "X = X[indexes_to_take,:]\n",
    "T = T[indexes_to_take]\n",
    "Y = Y[indexes_to_take]\n",
    "\n",
    "N = np.shape(X)[0]               # number of datapoints\n",
    "Treated = X[T==1,:]              # only treated datapoints\n",
    "N_treated = np.shape(Treated)[0] # number of treated\n",
    "\n",
    "propensity_score = propensity_score[indexes_to_take]"
   ]
  },
  {
   "cell_type": "markdown",
   "metadata": {},
   "source": [
    "## Check Overlapping"
   ]
  },
  {
   "cell_type": "code",
   "execution_count": 20,
   "metadata": {},
   "outputs": [
    {
     "data": {
      "image/png": "[encoded data removed]",
      "text/plain": [
       "<Figure size 720x360 with 1 Axes>"
      ]
     },
     "metadata": {
      "needs_background": "light"
     },
     "output_type": "display_data"
    }
   ],
   "source": [
    "# plot propensity scores distribution of treated and untreated\n",
    "fig = plt.figure(figsize=(10,5))\n",
    "treat_plt = plt.hist(propensity_score[T==1], fc=(0, 0, 1, 0.5),bins=20,label='Treated')\n",
    "cont_plt = plt.hist(propensity_score[T==0],fc=(1, 0, 0, 0.5),bins=20,label='Control')\n",
    "plt.legend();\n",
    "plt.xlabel('propensity score');\n",
    "plt.ylabel('number of units');\n"
   ]
  },
  {
   "cell_type": "markdown",
   "metadata": {},
   "source": [
    "## Estimate ATE using inverse propensity wegihtening"
   ]
  },
  {
   "cell_type": "code",
   "execution_count": 21,
   "metadata": {},
   "outputs": [
    {
     "name": "stdout",
     "output_type": "stream",
     "text": [
      "ATT = 3.3407620715769553\n"
     ]
    }
   ],
   "source": [
    "# calculate using hte inverse propensity firmula for ATT\n",
    "ATT_inverse_propensity_2 = (np.sum(T * Y)/np.sum(T)) - (np.sum((1-T) * Y * (propensity_score/(1-propensity_score)))/np.sum((1-T) * (propensity_score/(1-propensity_score))))\n",
    "print(\"ATT = \"+str(ATT_inverse_propensity_2))"
   ]
  },
  {
   "cell_type": "markdown",
   "metadata": {},
   "source": [
    "## Estimate ATT using S learner"
   ]
  },
  {
   "cell_type": "code",
   "execution_count": 22,
   "metadata": {},
   "outputs": [
    {
     "name": "stdout",
     "output_type": "stream",
     "text": [
      "R^2 = 0.3570088884190653\n",
      "ATT = 3.1127856116075434\n"
     ]
    }
   ],
   "source": [
    "# add T as a feature\n",
    "New_Features = np.concatenate((X, np.reshape(T,(N,1))), axis=1)\n",
    "\n",
    "# fit a model\n",
    "Outcome_estimator = linear_model.Ridge(alpha=1.0)\n",
    "Outcome_estimator.fit(New_Features, Y)\n",
    "\n",
    "# evaluate model with R^2\n",
    "print(\"R^2 = \" +str(Outcome_estimator.score(New_Features,Y)))\n",
    "\n",
    "# use model to predict outcomes once when treated and once when not on Treated\n",
    "# estimated_outcomes_1 = Outcome_estimator.predict(np.concatenate((Treated, np.ones((N_treated,1))), axis=1))\n",
    "estimated_outcomes_1 = Y[T==1]\n",
    "estimated_outcomes_0 = Outcome_estimator.predict(np.concatenate((Treated, np.zeros((N_treated,1))), axis=1))\n",
    "\n",
    "# calcualte ATT\n",
    "ATT_S_learner_2 = np.mean(estimated_outcomes_1 - estimated_outcomes_0)\n",
    "print(\"ATT = \"+str(ATT_S_learner_2))"
   ]
  },
  {
   "cell_type": "markdown",
   "metadata": {},
   "source": [
    "## Estimate ATT using S learner 2d + 1"
   ]
  },
  {
   "cell_type": "code",
   "execution_count": 23,
   "metadata": {},
   "outputs": [
    {
     "name": "stdout",
     "output_type": "stream",
     "text": [
      "R^2 = 0.4032542174785363\n",
      "ATT = 3.415975484295008\n"
     ]
    }
   ],
   "source": [
    "# add T and multiplications of T with the other features as new features\n",
    "New_Features = np.concatenate((X, (X.T * T).T, np.reshape(T,(N,1))), axis=1)\n",
    "\n",
    "# fit a model\n",
    "Outcome_estimator = linear_model.Ridge(alpha=1.0)\n",
    "Outcome_estimator.fit(New_Features, Y)\n",
    "\n",
    "# evaluate model with R^2\n",
    "print(\"R^2 = \" +str(Outcome_estimator.score(New_Features,Y)))\n",
    "\n",
    "# use model to predict outcomes once when treated and once when not on Treated\n",
    "# estimated_outcomes_1 = Outcome_estimator.predict(np.concatenate((Treated, (Treated.T * np.ones(N_treated)).T, np.ones((N_treated,1))), axis=1))\n",
    "estimated_outcomes_1 = Y[T==1]\n",
    "estimated_outcomes_0 = Outcome_estimator.predict(np.concatenate((Treated, (Treated.T * np.zeros(N_treated)).T, np.zeros((N_treated,1))), axis=1))\n",
    "           \n",
    "# calcualte ATT    \n",
    "ATT_S_learner_2d_2 = np.mean(estimated_outcomes_1 - estimated_outcomes_0)\n",
    "print(\"ATT = \"+str(ATT_S_learner_2d_2))\n"
   ]
  },
  {
   "cell_type": "markdown",
   "metadata": {},
   "source": [
    "## Estimate ATT using T learner"
   ]
  },
  {
   "cell_type": "code",
   "execution_count": 24,
   "metadata": {},
   "outputs": [
    {
     "name": "stdout",
     "output_type": "stream",
     "text": [
      "R^2 Treated = 0.26906558476616715\n",
      "R^2 Control = 0.509560847573826\n",
      "ATT = 3.418154294635806\n"
     ]
    }
   ],
   "source": [
    "# fit 2 models, one for treated and one for untreated\n",
    "Outcome_estimator1 = linear_model.Ridge(alpha=1.0)\n",
    "Outcome_estimator0 = linear_model.Ridge(alpha=1.0)\n",
    "\n",
    "Outcome_estimator1.fit(X[T==1,:], Y[T==1])\n",
    "Outcome_estimator0.fit(X[T==0,:], Y[T==0])\n",
    "\n",
    "# evaluate models with R^2\n",
    "print(\"R^2 Treated = \" +str(Outcome_estimator1.score(X[T==1,:], Y[T==1])))\n",
    "print(\"R^2 Control = \" +str(Outcome_estimator0.score(X[T==0,:], Y[T==0])))\n",
    "\n",
    "# use the model to predict outcomes on treated population\n",
    "#estimated_outcomes_1 = Outcome_estimator1.predict(Treated)\n",
    "estimated_outcomes_1 = Y[T==1]\n",
    "estimated_outcomes_0 = Outcome_estimator0.predict(Treated)\n",
    "  \n",
    "# calcualte ATT        \n",
    "ATT_T_learner_2 = np.mean(estimated_outcomes_1 - estimated_outcomes_0)\n",
    "print(\"ATT = \"+str(ATT_T_learner_2))"
   ]
  },
  {
   "cell_type": "markdown",
   "metadata": {},
   "source": [
    "## Estiamte ATT using matching"
   ]
  },
  {
   "cell_type": "code",
   "execution_count": 25,
   "metadata": {},
   "outputs": [
    {
     "name": "stdout",
     "output_type": "stream",
     "text": [
      "ATT = 4.0597068866027115\n"
     ]
    }
   ],
   "source": [
    "k = 3 # num of neibours\n",
    "p = 2 # whice p norm to use for distance\n",
    "\n",
    "# find nearest neibours of treated population from the untreated population\n",
    "\n",
    "# mahalanobis distance\n",
    "#nbrs = NearestNeighbors(n_neighbors=k,metric='mahalanobis',metric_params={'V': np.cov(X.T)}).fit(X[T==0])\n",
    "\n",
    "# regular p norm distance\n",
    "nbrs = NearestNeighbors(n_neighbors=k,p=p).fit(X[T==0])\n",
    "\n",
    "distances, indices = nbrs.kneighbors(X[T==1])\n",
    "\n",
    "# calcualte ATT        \n",
    "ATT_Matching_2 = np.mean(Y[T==1] - np.mean(Y[T==0][indices],axis=1))\n",
    "print(\"ATT = \"+str(ATT_Matching_2))"
   ]
  },
  {
   "cell_type": "markdown",
   "metadata": {},
   "source": [
    "## Estimate ATT for competition using Doubly robust estimator and random forest"
   ]
  },
  {
   "cell_type": "code",
   "execution_count": 26,
   "metadata": {},
   "outputs": [
    {
     "name": "stdout",
     "output_type": "stream",
     "text": [
      "R^2 Treated = 0.9931254305839754\n",
      "R^2 Control = 0.9820820752371217\n",
      "ATT = 2.5203208811839684\n"
     ]
    }
   ],
   "source": [
    "# fit 2 models, one for treated and one for untreated\n",
    "Outcome_estimator1 = RandomForestRegressor()\n",
    "Outcome_estimator0 = RandomForestRegressor()\n",
    "\n",
    "Outcome_estimator1.fit(X[T==1,:], Y[T==1])\n",
    "Outcome_estimator0.fit(X[T==0,:], Y[T==0])\n",
    "\n",
    "# evaluate models with R^2\n",
    "print(\"R^2 Treated = \" +str(Outcome_estimator1.score(X[T==1,:], Y[T==1])))\n",
    "print(\"R^2 Control = \" +str(Outcome_estimator0.score(X[T==0,:], Y[T==0])))\n",
    "\n",
    "# use the model to predict outcomes on treated population\n",
    "estimated_outcomes_1 = Outcome_estimator1.predict(Treated)\n",
    "estimated_outcomes_0 = Outcome_estimator0.predict(Treated)\n",
    "\n",
    "g1 = estimated_outcomes_1 + (1/propensity_score[T==1]) * (Y[T==1] - estimated_outcomes_1)\n",
    "g0 = estimated_outcomes_0\n",
    "  \n",
    "# calcualte ATT        \n",
    "ATT_Doubly_robust_2 = np.mean(g1 - g0)\n",
    "print(\"ATT = \"+str(ATT_Doubly_robust_2))   \n",
    "    "
   ]
  },
  {
   "cell_type": "markdown",
   "metadata": {},
   "source": [
    "## Estimate ATT for competition using Causal Forest"
   ]
  },
  {
   "cell_type": "code",
   "execution_count": 27,
   "metadata": {},
   "outputs": [
    {
     "name": "stderr",
     "output_type": "stream",
     "text": [
      "[Parallel(n_jobs=-1)]: Using backend LokyBackend with 4 concurrent workers.\n",
      "[Parallel(n_jobs=-1)]: Done  24 tasks      | elapsed:    5.0s\n",
      "[Parallel(n_jobs=-1)]: Done 120 tasks      | elapsed:    7.9s\n",
      "[Parallel(n_jobs=-1)]: Done 280 tasks      | elapsed:   12.7s\n",
      "[Parallel(n_jobs=-1)]: Done 500 out of 500 | elapsed:   19.3s finished\n",
      "[Parallel(n_jobs=-1)]: Using backend LokyBackend with 4 concurrent workers.\n",
      "[Parallel(n_jobs=-1)]: Done  40 tasks      | elapsed:    1.3s\n",
      "[Parallel(n_jobs=-1)]: Done 232 tasks      | elapsed:    7.2s\n",
      "[Parallel(n_jobs=-1)]: Done 500 out of 500 | elapsed:   15.8s finished\n",
      "[Parallel(n_jobs=-1)]: Using backend LokyBackend with 4 concurrent workers.\n",
      "[Parallel(n_jobs=-1)]: Done  24 tasks      | elapsed:    6.4s\n",
      "[Parallel(n_jobs=-1)]: Done 120 tasks      | elapsed:   11.9s\n",
      "[Parallel(n_jobs=-1)]: Done 312 tasks      | elapsed:   26.6s\n",
      "[Parallel(n_jobs=-1)]: Done 536 tasks      | elapsed:   43.6s\n",
      "[Parallel(n_jobs=-1)]: Done 996 tasks      | elapsed:  1.3min\n",
      "[Parallel(n_jobs=-1)]: Done 1544 tasks      | elapsed:  1.8min\n",
      "[Parallel(n_jobs=-1)]: Done 2148 tasks      | elapsed:  2.5min\n",
      "[Parallel(n_jobs=-1)]: Done 2622 out of 2622 | elapsed:  2.9min finished\n"
     ]
    },
    {
     "name": "stdout",
     "output_type": "stream",
     "text": [
      "ATT = 3.824321775830159\n"
     ]
    }
   ],
   "source": [
    "# fit causal forest to data\n",
    "Outcome_estimator = CausalForest()\n",
    "Outcome_estimator.fit(X=X,T=T,Y=Y)\n",
    "\n",
    "# use the model to predict outcomes on treated population\n",
    "effect = Outcome_estimator.const_marginal_effect(Treated)\n",
    "\n",
    "# calcualte ATT        \n",
    "ATT_Causal_Forest_2 = np.mean(effect)\n",
    "print(\"ATT = \"+str(ATT_Causal_Forest_2))  "
   ]
  },
  {
   "cell_type": "markdown",
   "metadata": {},
   "source": [
    "## Estimate ATT for competition using X - Learner with random forest"
   ]
  },
  {
   "cell_type": "code",
   "execution_count": 28,
   "metadata": {},
   "outputs": [
    {
     "name": "stdout",
     "output_type": "stream",
     "text": [
      "R^2 Treated = 0.9927672347444836\n",
      "R^2 Control = 0.9824513055336013\n",
      "R^2 tau1 = 0.971113586724636\n",
      "R^2 tau0 = 0.9660024301182847\n",
      "ATT = 2.364029173197324\n"
     ]
    }
   ],
   "source": [
    "# fit 2 models, one for treated and one for untreated\n",
    "Outcome_estimator1 = RandomForestRegressor()\n",
    "Outcome_estimator0 = RandomForestRegressor()\n",
    "\n",
    "Outcome_estimator1.fit(X[T==1,:], Y[T==1])\n",
    "Outcome_estimator0.fit(X[T==0,:], Y[T==0])\n",
    "\n",
    "# evaluate models with R^2\n",
    "print(\"R^2 Treated = \" +str(Outcome_estimator1.score(X[T==1,:], Y[T==1])))\n",
    "print(\"R^2 Control = \" +str(Outcome_estimator0.score(X[T==0,:], Y[T==0])))\n",
    "\n",
    "# use the model to predict outcomes on treated population\n",
    "estimated_outcomes_1 = Outcome_estimator1.predict(X)\n",
    "estimated_outcomes_0 = Outcome_estimator0.predict(X)\n",
    "\n",
    "tau1 = Y[T==1] - estimated_outcomes_0[T==1]\n",
    "tau0 = estimated_outcomes_1[T==0] - Y[T==0]\n",
    "\n",
    "tau1_estimator = RandomForestRegressor()\n",
    "tau0_estimator = RandomForestRegressor()\n",
    "\n",
    "tau1_estimator.fit(X[T==1,:], tau1)\n",
    "tau0_estimator.fit(X[T==0,:], tau0)\n",
    "\n",
    "# evaluate models with R^2\n",
    "print(\"R^2 tau1 = \" +str(tau1_estimator.score(X[T==1,:], tau1)))\n",
    "print(\"R^2 tau0 = \" +str(tau0_estimator.score(X[T==0,:], tau0)))\n",
    "\n",
    "# use the model to predict outcomes on treated population\n",
    "estimated_tau1 = tau1_estimator.predict(X)\n",
    "estimated_tau0 = tau0_estimator.predict(X)\n",
    "\n",
    "ITE = propensity_score * estimated_tau0 + (1-propensity_score) * estimated_tau1\n",
    " \n",
    "# calcualte ATT        \n",
    "ATT_X_Learner_2 = np.mean(ITE[T==1])\n",
    "print(\"ATT = \"+str(ATT_X_Learner_2)) "
   ]
  },
  {
   "cell_type": "markdown",
   "metadata": {},
   "source": [
    "## Choose model for competition"
   ]
  },
  {
   "cell_type": "code",
   "execution_count": 29,
   "metadata": {},
   "outputs": [],
   "source": [
    "ATT_Competition_2 = ATT_Doubly_robust_2"
   ]
  },
  {
   "cell_type": "markdown",
   "metadata": {},
   "source": [
    "## Save results"
   ]
  },
  {
   "cell_type": "code",
   "execution_count": 30,
   "metadata": {},
   "outputs": [],
   "source": [
    "# save ATT estimates\n",
    "res = {'Type': [1, 2, 3, 4, 5],\n",
    "     'data1': [ATT_inverse_propensity_1, ATT_S_learner_2d_1,ATT_T_learner_1,ATT_Matching_1,ATT_Competition_1],\n",
    "     'data2': [ATT_inverse_propensity_2, ATT_S_learner_2d_2,ATT_T_learner_2,ATT_Matching_2,ATT_Competition_2]}\n",
    "\n",
    "df = pd.DataFrame(data=res)\n",
    "\n",
    "df.to_csv(\"../ATT_results.csv\",index=False)\n",
    "\n",
    "# save propensity scores estimates\n",
    "res = [propensity_score_1, propensity_score_2] \n",
    "  \n",
    "df = pd.DataFrame(res, index = ['data1', 'data2']) \n",
    "  \n",
    "df.to_csv(\"../models_propensity.csv\",header=False)\n"
   ]
  }
 ],
 "metadata": {
  "kernelspec": {
   "display_name": "Python 3",
   "language": "python",
   "name": "python3"
  },
  "language_info": {
   "codemirror_mode": {
    "name": "ipython",
    "version": 3
   },
   "file_extension": ".py",
   "mimetype": "text/x-python",
   "name": "python",
   "nbconvert_exporter": "python",
   "pygments_lexer": "ipython3",
   "version": "3.7.9"
  }
 },
 "nbformat": 4,
 "nbformat_minor": 2
}
